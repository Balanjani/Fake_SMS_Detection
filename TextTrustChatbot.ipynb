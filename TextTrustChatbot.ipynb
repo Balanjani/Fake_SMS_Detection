{
 "cells": [
  {
   "cell_type": "markdown",
   "metadata": {
    "colab_type": "text",
    "id": "view-in-github"
   },
   "source": [
    "<a href=\"https://colab.research.google.com/github/Balanjani/Fake_SMS_Detection/blob/main/TextTrustChatbot.ipynb\" target=\"_parent\"><img src=\"https://colab.research.google.com/assets/colab-badge.svg\" alt=\"Open In Colab\"/></a>"
   ]
  },
  {
   "cell_type": "code",
   "execution_count": 4,
   "metadata": {
    "colab": {
     "base_uri": "https://localhost:8080/",
     "height": 1000
    },
    "id": "YsEiCIXIC5Tq",
    "outputId": "9f081dfb-4da7-4e97-bc4a-970b07c794e7"
   },
   "outputs": [
    {
     "name": "stderr",
     "output_type": "stream",
     "text": [
      "Access is denied.\n"
     ]
    },
    {
     "ename": "ModuleNotFoundError",
     "evalue": "No module named 'pandas'",
     "output_type": "error",
     "traceback": [
      "\u001b[1;31m---------------------------------------------------------------------------\u001b[0m",
      "\u001b[1;31mModuleNotFoundError\u001b[0m                       Traceback (most recent call last)",
      "Cell \u001b[1;32mIn[4], line 5\u001b[0m\n\u001b[0;32m      2\u001b[0m get_ipython()\u001b[38;5;241m.\u001b[39msystem(\u001b[38;5;124m'\u001b[39m\u001b[38;5;124mpip install pandas scikit-learn gradio\u001b[39m\u001b[38;5;124m'\u001b[39m)\n\u001b[0;32m      4\u001b[0m \u001b[38;5;66;03m# Import libraries\u001b[39;00m\n\u001b[1;32m----> 5\u001b[0m \u001b[38;5;28;01mimport\u001b[39;00m \u001b[38;5;21;01mpandas\u001b[39;00m \u001b[38;5;28;01mas\u001b[39;00m \u001b[38;5;21;01mpd\u001b[39;00m\n\u001b[0;32m      6\u001b[0m \u001b[38;5;28;01mimport\u001b[39;00m \u001b[38;5;21;01mre\u001b[39;00m\n\u001b[0;32m      7\u001b[0m \u001b[38;5;28;01mfrom\u001b[39;00m \u001b[38;5;21;01msklearn\u001b[39;00m\u001b[38;5;21;01m.\u001b[39;00m\u001b[38;5;21;01mfeature_extraction\u001b[39;00m\u001b[38;5;21;01m.\u001b[39;00m\u001b[38;5;21;01mtext\u001b[39;00m \u001b[38;5;28;01mimport\u001b[39;00m TfidfVectorizer\n",
      "\u001b[1;31mModuleNotFoundError\u001b[0m: No module named 'pandas'"
     ]
    }
   ],
   "source": [
    "# Install required libraries\n",
    "!pip install pandas scikit-learn gradio\n",
    "\n",
    "# Import libraries\n",
    "import pandas as pd\n",
    "import re\n",
    "from sklearn.feature_extraction.text import TfidfVectorizer\n",
    "from sklearn.model_selection import train_test_split\n",
    "from sklearn.naive_bayes import MultinomialNB\n",
    "from sklearn.metrics import accuracy_score\n",
    "import gradio as gr\n",
    "\n",
    "# Step 1: Load the dataset\n",
    "file_path = \"/content/spam.csv\"  # Ensure you upload the dataset to Colab or provide the correct path\n",
    "df = pd.read_csv(file_path, encoding=\"ISO-8859-1\")\n",
    "\n",
    "# Assuming the dataset has 'text' and 'label' columns\n",
    "texts = df['text'].values\n",
    "labels = df['label'].values  # 'spam' or 'ham'\n",
    "\n",
    "# Step 2: Text Normalization\n",
    "def normalize_text(text):\n",
    "    text = text.lower()\n",
    "    text = re.sub(r\"[^a-z\\s]\", \"\", text)  # Remove special characters\n",
    "    return text\n",
    "\n",
    "normalized_texts = [normalize_text(text) for text in texts]\n",
    "\n",
    "# Step 3: Tokenization & Feature Extraction\n",
    "vectorizer = TfidfVectorizer()\n",
    "X = vectorizer.fit_transform(normalized_texts)\n",
    "y = [1 if label == \"spam\" else 0 for label in labels]  # Convert labels to binary\n",
    "\n",
    "# Split data into train and test sets\n",
    "X_train, X_test, y_train, y_test = train_test_split(X, y, test_size=0.3, random_state=42)\n",
    "\n",
    "# Step 4: Train the Model\n",
    "model = MultinomialNB()\n",
    "model.fit(X_train, y_train)\n",
    "\n",
    "# Step 5: Evaluate the Model\n",
    "y_pred = model.predict(X_test)\n",
    "print(f\"Model trained with an accuracy of: {accuracy_score(y_test, y_pred):.2f}\")\n",
    "\n",
    "# Step 6: Define chatbot functionality\n",
    "def classify_text(input_text):\n",
    "    normalized_input = normalize_text(input_text)\n",
    "    input_features = vectorizer.transform([normalized_input])\n",
    "    prediction = model.predict(input_features)[0]\n",
    "    return \"spam\" if prediction == 1 else \"ham\"\n",
    "\n",
    "# Step 7: Create Gradio interface\n",
    "def chatbot(input_text):\n",
    "    classification = classify_text(input_text)\n",
    "    return f\"The input is classified as: {classification}\"\n",
    "\n",
    "# Create Gradio Interface\n",
    "interface = gr.Interface(\n",
    "    fn=chatbot,\n",
    "    inputs=\"text\",\n",
    "    outputs=\"text\",\n",
    "    title=\"Spam Detection Chatbot\",\n",
    "    description=\"Enter a message, and the chatbot will classify it as spam or ham. Type your message below.\"\n",
    ")\n",
    "\n",
    "# Launch the interface and generate the URL\n",
    "interface.launch(share=True)\n"
   ]
  }
 ],
 "metadata": {
  "colab": {
   "authorship_tag": "ABX9TyPtcCqntFf/KIsGFx4RbBjc",
   "include_colab_link": true,
   "provenance": []
  },
  "kernelspec": {
   "display_name": "Python 3",
   "name": "python3"
  },
  "language_info": {
   "codemirror_mode": {
    "name": "ipython",
    "version": 3
   },
   "file_extension": ".py",
   "mimetype": "text/x-python",
   "name": "python",
   "nbconvert_exporter": "python",
   "pygments_lexer": "ipython3",
   "version": "3.12.0"
  }
 },
 "nbformat": 4,
 "nbformat_minor": 0
}
